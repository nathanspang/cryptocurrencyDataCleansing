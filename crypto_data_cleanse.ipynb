{
 "cells": [
  {
   "cell_type": "markdown",
   "metadata": {},
   "source": [
    "This is a basic data cleansing project using Python. I am taking a data set on cryptocurreny pricing information, and cleansing it in order to be prepared to better present the data, and make important purchasing decisions."
   ]
  },
  {
   "cell_type": "code",
   "execution_count": 1,
   "metadata": {},
   "outputs": [],
   "source": [
    "import pandas as pd\n",
    "import numpy as np"
   ]
  },
  {
   "cell_type": "code",
   "execution_count": 118,
   "metadata": {},
   "outputs": [],
   "source": [
    "df = pd.read_csv('CryptocoinsHistoricalPrices.csv', low_memory=False)"
   ]
  },
  {
   "cell_type": "code",
   "execution_count": 119,
   "metadata": {},
   "outputs": [
    {
     "data": {
      "text/html": [
       "<div>\n",
       "<style scoped>\n",
       "    .dataframe tbody tr th:only-of-type {\n",
       "        vertical-align: middle;\n",
       "    }\n",
       "\n",
       "    .dataframe tbody tr th {\n",
       "        vertical-align: top;\n",
       "    }\n",
       "\n",
       "    .dataframe thead th {\n",
       "        text-align: right;\n",
       "    }\n",
       "</style>\n",
       "<table border=\"1\" class=\"dataframe\">\n",
       "  <thead>\n",
       "    <tr style=\"text-align: right;\">\n",
       "      <th></th>\n",
       "      <th>Unnamed: 0</th>\n",
       "      <th>Date</th>\n",
       "      <th>Open.</th>\n",
       "      <th>High</th>\n",
       "      <th>Low</th>\n",
       "      <th>Close..</th>\n",
       "      <th>Volume</th>\n",
       "      <th>Market.Cap</th>\n",
       "      <th>coin</th>\n",
       "      <th>Open</th>\n",
       "      <th>Close</th>\n",
       "      <th>Delta</th>\n",
       "    </tr>\n",
       "  </thead>\n",
       "  <tbody>\n",
       "    <tr>\n",
       "      <th>0</th>\n",
       "      <td>1</td>\n",
       "      <td>2018-08-14</td>\n",
       "      <td>6287.66</td>\n",
       "      <td>6287.94</td>\n",
       "      <td>5971.05</td>\n",
       "      <td>6199.71</td>\n",
       "      <td>5,301,700,000</td>\n",
       "      <td>108,199,097,492</td>\n",
       "      <td>BTC</td>\n",
       "      <td>6287.66</td>\n",
       "      <td>6199.71</td>\n",
       "      <td>-0.013988</td>\n",
       "    </tr>\n",
       "    <tr>\n",
       "      <th>1</th>\n",
       "      <td>2</td>\n",
       "      <td>2018-08-13</td>\n",
       "      <td>6341.36</td>\n",
       "      <td>6537.05</td>\n",
       "      <td>6225.72</td>\n",
       "      <td>6297.57</td>\n",
       "      <td>4,083,980,000</td>\n",
       "      <td>109,111,523,954</td>\n",
       "      <td>BTC</td>\n",
       "      <td>6341.36</td>\n",
       "      <td>6297.57</td>\n",
       "      <td>-0.006905</td>\n",
       "    </tr>\n",
       "    <tr>\n",
       "      <th>2</th>\n",
       "      <td>3</td>\n",
       "      <td>2018-08-12</td>\n",
       "      <td>6283.65</td>\n",
       "      <td>6409.85</td>\n",
       "      <td>6237.50</td>\n",
       "      <td>6322.69</td>\n",
       "      <td>5,665,250,000</td>\n",
       "      <td>108,106,451,582</td>\n",
       "      <td>BTC</td>\n",
       "      <td>6283.65</td>\n",
       "      <td>6322.69</td>\n",
       "      <td>0.006213</td>\n",
       "    </tr>\n",
       "    <tr>\n",
       "      <th>3</th>\n",
       "      <td>4</td>\n",
       "      <td>2018-08-11</td>\n",
       "      <td>6185.79</td>\n",
       "      <td>6455.74</td>\n",
       "      <td>6109.03</td>\n",
       "      <td>6295.73</td>\n",
       "      <td>4,047,850,000</td>\n",
       "      <td>106,409,456,302</td>\n",
       "      <td>BTC</td>\n",
       "      <td>6185.79</td>\n",
       "      <td>6295.73</td>\n",
       "      <td>0.017773</td>\n",
       "    </tr>\n",
       "    <tr>\n",
       "      <th>4</th>\n",
       "      <td>5</td>\n",
       "      <td>2018-08-10</td>\n",
       "      <td>6571.42</td>\n",
       "      <td>6591.26</td>\n",
       "      <td>6124.52</td>\n",
       "      <td>6184.71</td>\n",
       "      <td>4,528,680,000</td>\n",
       "      <td>113,028,788,092</td>\n",
       "      <td>BTC</td>\n",
       "      <td>6571.42</td>\n",
       "      <td>6184.71</td>\n",
       "      <td>-0.058847</td>\n",
       "    </tr>\n",
       "  </tbody>\n",
       "</table>\n",
       "</div>"
      ],
      "text/plain": [
       "   Unnamed: 0        Date    Open.     High      Low  Close..         Volume  \\\n",
       "0           1  2018-08-14  6287.66  6287.94  5971.05  6199.71  5,301,700,000   \n",
       "1           2  2018-08-13  6341.36  6537.05  6225.72  6297.57  4,083,980,000   \n",
       "2           3  2018-08-12  6283.65  6409.85  6237.50  6322.69  5,665,250,000   \n",
       "3           4  2018-08-11  6185.79  6455.74  6109.03  6295.73  4,047,850,000   \n",
       "4           5  2018-08-10  6571.42  6591.26  6124.52  6184.71  4,528,680,000   \n",
       "\n",
       "        Market.Cap coin     Open    Close     Delta  \n",
       "0  108,199,097,492  BTC  6287.66  6199.71 -0.013988  \n",
       "1  109,111,523,954  BTC  6341.36  6297.57 -0.006905  \n",
       "2  108,106,451,582  BTC  6283.65  6322.69  0.006213  \n",
       "3  106,409,456,302  BTC  6185.79  6295.73  0.017773  \n",
       "4  113,028,788,092  BTC  6571.42  6184.71 -0.058847  "
      ]
     },
     "execution_count": 119,
     "metadata": {},
     "output_type": "execute_result"
    }
   ],
   "source": [
    "df.head()"
   ]
  },
  {
   "cell_type": "markdown",
   "metadata": {},
   "source": [
    "As seen in the dataframe head, the first noticeable thing is that there are duplicate columns. We can see that there are two seperate Open and Close columns. The first step of the data cleansing process is to delete these duplicate columns, because they are not needed and will confuse when working."
   ]
  },
  {
   "cell_type": "code",
   "execution_count": 120,
   "metadata": {},
   "outputs": [],
   "source": [
    "to_drop = ['Open.', 'Close..']\n",
    "df.drop(columns=to_drop, inplace=True)"
   ]
  },
  {
   "cell_type": "code",
   "execution_count": 121,
   "metadata": {},
   "outputs": [
    {
     "data": {
      "text/html": [
       "<div>\n",
       "<style scoped>\n",
       "    .dataframe tbody tr th:only-of-type {\n",
       "        vertical-align: middle;\n",
       "    }\n",
       "\n",
       "    .dataframe tbody tr th {\n",
       "        vertical-align: top;\n",
       "    }\n",
       "\n",
       "    .dataframe thead th {\n",
       "        text-align: right;\n",
       "    }\n",
       "</style>\n",
       "<table border=\"1\" class=\"dataframe\">\n",
       "  <thead>\n",
       "    <tr style=\"text-align: right;\">\n",
       "      <th></th>\n",
       "      <th>Unnamed: 0</th>\n",
       "      <th>Date</th>\n",
       "      <th>High</th>\n",
       "      <th>Low</th>\n",
       "      <th>Volume</th>\n",
       "      <th>Market.Cap</th>\n",
       "      <th>coin</th>\n",
       "      <th>Open</th>\n",
       "      <th>Close</th>\n",
       "      <th>Delta</th>\n",
       "    </tr>\n",
       "  </thead>\n",
       "  <tbody>\n",
       "    <tr>\n",
       "      <th>0</th>\n",
       "      <td>1</td>\n",
       "      <td>2018-08-14</td>\n",
       "      <td>6287.94</td>\n",
       "      <td>5971.05</td>\n",
       "      <td>5,301,700,000</td>\n",
       "      <td>108,199,097,492</td>\n",
       "      <td>BTC</td>\n",
       "      <td>6287.66</td>\n",
       "      <td>6199.71</td>\n",
       "      <td>-0.013988</td>\n",
       "    </tr>\n",
       "    <tr>\n",
       "      <th>1</th>\n",
       "      <td>2</td>\n",
       "      <td>2018-08-13</td>\n",
       "      <td>6537.05</td>\n",
       "      <td>6225.72</td>\n",
       "      <td>4,083,980,000</td>\n",
       "      <td>109,111,523,954</td>\n",
       "      <td>BTC</td>\n",
       "      <td>6341.36</td>\n",
       "      <td>6297.57</td>\n",
       "      <td>-0.006905</td>\n",
       "    </tr>\n",
       "    <tr>\n",
       "      <th>2</th>\n",
       "      <td>3</td>\n",
       "      <td>2018-08-12</td>\n",
       "      <td>6409.85</td>\n",
       "      <td>6237.50</td>\n",
       "      <td>5,665,250,000</td>\n",
       "      <td>108,106,451,582</td>\n",
       "      <td>BTC</td>\n",
       "      <td>6283.65</td>\n",
       "      <td>6322.69</td>\n",
       "      <td>0.006213</td>\n",
       "    </tr>\n",
       "    <tr>\n",
       "      <th>3</th>\n",
       "      <td>4</td>\n",
       "      <td>2018-08-11</td>\n",
       "      <td>6455.74</td>\n",
       "      <td>6109.03</td>\n",
       "      <td>4,047,850,000</td>\n",
       "      <td>106,409,456,302</td>\n",
       "      <td>BTC</td>\n",
       "      <td>6185.79</td>\n",
       "      <td>6295.73</td>\n",
       "      <td>0.017773</td>\n",
       "    </tr>\n",
       "    <tr>\n",
       "      <th>4</th>\n",
       "      <td>5</td>\n",
       "      <td>2018-08-10</td>\n",
       "      <td>6591.26</td>\n",
       "      <td>6124.52</td>\n",
       "      <td>4,528,680,000</td>\n",
       "      <td>113,028,788,092</td>\n",
       "      <td>BTC</td>\n",
       "      <td>6571.42</td>\n",
       "      <td>6184.71</td>\n",
       "      <td>-0.058847</td>\n",
       "    </tr>\n",
       "  </tbody>\n",
       "</table>\n",
       "</div>"
      ],
      "text/plain": [
       "   Unnamed: 0        Date     High      Low         Volume       Market.Cap  \\\n",
       "0           1  2018-08-14  6287.94  5971.05  5,301,700,000  108,199,097,492   \n",
       "1           2  2018-08-13  6537.05  6225.72  4,083,980,000  109,111,523,954   \n",
       "2           3  2018-08-12  6409.85  6237.50  5,665,250,000  108,106,451,582   \n",
       "3           4  2018-08-11  6455.74  6109.03  4,047,850,000  106,409,456,302   \n",
       "4           5  2018-08-10  6591.26  6124.52  4,528,680,000  113,028,788,092   \n",
       "\n",
       "  coin     Open    Close     Delta  \n",
       "0  BTC  6287.66  6199.71 -0.013988  \n",
       "1  BTC  6341.36  6297.57 -0.006905  \n",
       "2  BTC  6283.65  6322.69  0.006213  \n",
       "3  BTC  6185.79  6295.73  0.017773  \n",
       "4  BTC  6571.42  6184.71 -0.058847  "
      ]
     },
     "execution_count": 121,
     "metadata": {},
     "output_type": "execute_result"
    }
   ],
   "source": [
    "df.head()"
   ]
  },
  {
   "cell_type": "markdown",
   "metadata": {},
   "source": [
    "Next, I want to replace all instances of '-', which is what this data set defines as null, to be seen as null in python."
   ]
  },
  {
   "cell_type": "code",
   "execution_count": 122,
   "metadata": {},
   "outputs": [],
   "source": [
    "df = df.replace({'-': np.nan})"
   ]
  },
  {
   "cell_type": "markdown",
   "metadata": {},
   "source": [
    "Another issue we will soon run into is that the values for Volume and Market Cap will be treated as strings, but we may want to work with them as numbers. We must first remove commas, and then change the column data type."
   ]
  },
  {
   "cell_type": "code",
   "execution_count": 123,
   "metadata": {},
   "outputs": [],
   "source": [
    "df['Volume'] = df['Volume'].str.replace(',','')"
   ]
  },
  {
   "cell_type": "code",
   "execution_count": 124,
   "metadata": {},
   "outputs": [],
   "source": [
    "df['Market.Cap'] = df['Market.Cap'].str.replace(',','')"
   ]
  },
  {
   "cell_type": "markdown",
   "metadata": {},
   "source": [
    "Another issue we will eventually run into is the fact that there are multiple coins that are analyzed in this table. For the purposes of our analysis, we are going to limit to BTC, ETH, and XRP. We also need to ensure that we know which rows correspond with each of these 3 coins."
   ]
  },
  {
   "cell_type": "code",
   "execution_count": 206,
   "metadata": {},
   "outputs": [],
   "source": [
    "bitcoinData = df.loc[df['coin'] == 'BTC']"
   ]
  },
  {
   "cell_type": "code",
   "execution_count": 199,
   "metadata": {},
   "outputs": [],
   "source": [
    "etheriumData = df.loc[df['coin'] == 'ETH']"
   ]
  },
  {
   "cell_type": "code",
   "execution_count": 207,
   "metadata": {},
   "outputs": [],
   "source": [
    "rippleData = df.loc[df['coin'] == 'XRP']"
   ]
  },
  {
   "cell_type": "code",
   "execution_count": 128,
   "metadata": {},
   "outputs": [
    {
     "data": {
      "text/html": [
       "<div>\n",
       "<style scoped>\n",
       "    .dataframe tbody tr th:only-of-type {\n",
       "        vertical-align: middle;\n",
       "    }\n",
       "\n",
       "    .dataframe tbody tr th {\n",
       "        vertical-align: top;\n",
       "    }\n",
       "\n",
       "    .dataframe thead th {\n",
       "        text-align: right;\n",
       "    }\n",
       "</style>\n",
       "<table border=\"1\" class=\"dataframe\">\n",
       "  <thead>\n",
       "    <tr style=\"text-align: right;\">\n",
       "      <th></th>\n",
       "      <th>Unnamed: 0</th>\n",
       "      <th>Date</th>\n",
       "      <th>High</th>\n",
       "      <th>Low</th>\n",
       "      <th>Volume</th>\n",
       "      <th>Market.Cap</th>\n",
       "      <th>coin</th>\n",
       "      <th>Open</th>\n",
       "      <th>Close</th>\n",
       "      <th>Delta</th>\n",
       "    </tr>\n",
       "  </thead>\n",
       "  <tbody>\n",
       "    <tr>\n",
       "      <th>0</th>\n",
       "      <td>1</td>\n",
       "      <td>2018-08-14</td>\n",
       "      <td>6287.94</td>\n",
       "      <td>5971.05</td>\n",
       "      <td>5301700000</td>\n",
       "      <td>108199097492</td>\n",
       "      <td>BTC</td>\n",
       "      <td>6287.66</td>\n",
       "      <td>6199.71</td>\n",
       "      <td>-0.013988</td>\n",
       "    </tr>\n",
       "    <tr>\n",
       "      <th>1</th>\n",
       "      <td>2</td>\n",
       "      <td>2018-08-13</td>\n",
       "      <td>6537.05</td>\n",
       "      <td>6225.72</td>\n",
       "      <td>4083980000</td>\n",
       "      <td>109111523954</td>\n",
       "      <td>BTC</td>\n",
       "      <td>6341.36</td>\n",
       "      <td>6297.57</td>\n",
       "      <td>-0.006905</td>\n",
       "    </tr>\n",
       "    <tr>\n",
       "      <th>2</th>\n",
       "      <td>3</td>\n",
       "      <td>2018-08-12</td>\n",
       "      <td>6409.85</td>\n",
       "      <td>6237.50</td>\n",
       "      <td>5665250000</td>\n",
       "      <td>108106451582</td>\n",
       "      <td>BTC</td>\n",
       "      <td>6283.65</td>\n",
       "      <td>6322.69</td>\n",
       "      <td>0.006213</td>\n",
       "    </tr>\n",
       "    <tr>\n",
       "      <th>3</th>\n",
       "      <td>4</td>\n",
       "      <td>2018-08-11</td>\n",
       "      <td>6455.74</td>\n",
       "      <td>6109.03</td>\n",
       "      <td>4047850000</td>\n",
       "      <td>106409456302</td>\n",
       "      <td>BTC</td>\n",
       "      <td>6185.79</td>\n",
       "      <td>6295.73</td>\n",
       "      <td>0.017773</td>\n",
       "    </tr>\n",
       "    <tr>\n",
       "      <th>4</th>\n",
       "      <td>5</td>\n",
       "      <td>2018-08-10</td>\n",
       "      <td>6591.26</td>\n",
       "      <td>6124.52</td>\n",
       "      <td>4528680000</td>\n",
       "      <td>113028788092</td>\n",
       "      <td>BTC</td>\n",
       "      <td>6571.42</td>\n",
       "      <td>6184.71</td>\n",
       "      <td>-0.058847</td>\n",
       "    </tr>\n",
       "  </tbody>\n",
       "</table>\n",
       "</div>"
      ],
      "text/plain": [
       "   Unnamed: 0        Date     High      Low      Volume    Market.Cap coin  \\\n",
       "0           1  2018-08-14  6287.94  5971.05  5301700000  108199097492  BTC   \n",
       "1           2  2018-08-13  6537.05  6225.72  4083980000  109111523954  BTC   \n",
       "2           3  2018-08-12  6409.85  6237.50  5665250000  108106451582  BTC   \n",
       "3           4  2018-08-11  6455.74  6109.03  4047850000  106409456302  BTC   \n",
       "4           5  2018-08-10  6591.26  6124.52  4528680000  113028788092  BTC   \n",
       "\n",
       "      Open    Close     Delta  \n",
       "0  6287.66  6199.71 -0.013988  \n",
       "1  6341.36  6297.57 -0.006905  \n",
       "2  6283.65  6322.69  0.006213  \n",
       "3  6185.79  6295.73  0.017773  \n",
       "4  6571.42  6184.71 -0.058847  "
      ]
     },
     "execution_count": 128,
     "metadata": {},
     "output_type": "execute_result"
    }
   ],
   "source": [
    "bitcoinData.head()"
   ]
  },
  {
   "cell_type": "code",
   "execution_count": 142,
   "metadata": {},
   "outputs": [
    {
     "data": {
      "text/html": [
       "<div>\n",
       "<style scoped>\n",
       "    .dataframe tbody tr th:only-of-type {\n",
       "        vertical-align: middle;\n",
       "    }\n",
       "\n",
       "    .dataframe tbody tr th {\n",
       "        vertical-align: top;\n",
       "    }\n",
       "\n",
       "    .dataframe thead th {\n",
       "        text-align: right;\n",
       "    }\n",
       "</style>\n",
       "<table border=\"1\" class=\"dataframe\">\n",
       "  <thead>\n",
       "    <tr style=\"text-align: right;\">\n",
       "      <th></th>\n",
       "      <th>Unnamed: 0</th>\n",
       "      <th>Date</th>\n",
       "      <th>High</th>\n",
       "      <th>Low</th>\n",
       "      <th>Volume</th>\n",
       "      <th>Market.Cap</th>\n",
       "      <th>coin</th>\n",
       "      <th>Open</th>\n",
       "      <th>Close</th>\n",
       "      <th>Delta</th>\n",
       "    </tr>\n",
       "  </thead>\n",
       "  <tbody>\n",
       "    <tr>\n",
       "      <th>1935</th>\n",
       "      <td>1936</td>\n",
       "      <td>2018-08-14</td>\n",
       "      <td>286.37</td>\n",
       "      <td>254.65</td>\n",
       "      <td>2137850000</td>\n",
       "      <td>29011325541</td>\n",
       "      <td>ETH</td>\n",
       "      <td>286.37</td>\n",
       "      <td>278.93</td>\n",
       "      <td>-0.025980</td>\n",
       "    </tr>\n",
       "    <tr>\n",
       "      <th>1936</th>\n",
       "      <td>1937</td>\n",
       "      <td>2018-08-13</td>\n",
       "      <td>323.55</td>\n",
       "      <td>284.93</td>\n",
       "      <td>1751190000</td>\n",
       "      <td>32433585929</td>\n",
       "      <td>ETH</td>\n",
       "      <td>320.21</td>\n",
       "      <td>286.50</td>\n",
       "      <td>-0.105275</td>\n",
       "    </tr>\n",
       "    <tr>\n",
       "      <th>1937</th>\n",
       "      <td>1938</td>\n",
       "      <td>2018-08-12</td>\n",
       "      <td>328.59</td>\n",
       "      <td>318.60</td>\n",
       "      <td>1625420000</td>\n",
       "      <td>32489149687</td>\n",
       "      <td>ETH</td>\n",
       "      <td>320.82</td>\n",
       "      <td>319.57</td>\n",
       "      <td>-0.003896</td>\n",
       "    </tr>\n",
       "    <tr>\n",
       "      <th>1938</th>\n",
       "      <td>1939</td>\n",
       "      <td>2018-08-11</td>\n",
       "      <td>334.26</td>\n",
       "      <td>308.49</td>\n",
       "      <td>1790370000</td>\n",
       "      <td>33843432717</td>\n",
       "      <td>ETH</td>\n",
       "      <td>334.26</td>\n",
       "      <td>322.11</td>\n",
       "      <td>-0.036349</td>\n",
       "    </tr>\n",
       "    <tr>\n",
       "      <th>1939</th>\n",
       "      <td>1940</td>\n",
       "      <td>2018-08-10</td>\n",
       "      <td>367.05</td>\n",
       "      <td>329.59</td>\n",
       "      <td>1699400000</td>\n",
       "      <td>37026418724</td>\n",
       "      <td>ETH</td>\n",
       "      <td>365.78</td>\n",
       "      <td>334.18</td>\n",
       "      <td>-0.086391</td>\n",
       "    </tr>\n",
       "  </tbody>\n",
       "</table>\n",
       "</div>"
      ],
      "text/plain": [
       "      Unnamed: 0        Date    High     Low      Volume   Market.Cap coin  \\\n",
       "1935        1936  2018-08-14  286.37  254.65  2137850000  29011325541  ETH   \n",
       "1936        1937  2018-08-13  323.55  284.93  1751190000  32433585929  ETH   \n",
       "1937        1938  2018-08-12  328.59  318.60  1625420000  32489149687  ETH   \n",
       "1938        1939  2018-08-11  334.26  308.49  1790370000  33843432717  ETH   \n",
       "1939        1940  2018-08-10  367.05  329.59  1699400000  37026418724  ETH   \n",
       "\n",
       "        Open   Close     Delta  \n",
       "1935  286.37  278.93 -0.025980  \n",
       "1936  320.21  286.50 -0.105275  \n",
       "1937  320.82  319.57 -0.003896  \n",
       "1938  334.26  322.11 -0.036349  \n",
       "1939  365.78  334.18 -0.086391  "
      ]
     },
     "execution_count": 142,
     "metadata": {},
     "output_type": "execute_result"
    }
   ],
   "source": [
    "etheriumData.head()"
   ]
  },
  {
   "cell_type": "code",
   "execution_count": 130,
   "metadata": {},
   "outputs": [
    {
     "data": {
      "text/html": [
       "<div>\n",
       "<style scoped>\n",
       "    .dataframe tbody tr th:only-of-type {\n",
       "        vertical-align: middle;\n",
       "    }\n",
       "\n",
       "    .dataframe tbody tr th {\n",
       "        vertical-align: top;\n",
       "    }\n",
       "\n",
       "    .dataframe thead th {\n",
       "        text-align: right;\n",
       "    }\n",
       "</style>\n",
       "<table border=\"1\" class=\"dataframe\">\n",
       "  <thead>\n",
       "    <tr style=\"text-align: right;\">\n",
       "      <th></th>\n",
       "      <th>Unnamed: 0</th>\n",
       "      <th>Date</th>\n",
       "      <th>High</th>\n",
       "      <th>Low</th>\n",
       "      <th>Volume</th>\n",
       "      <th>Market.Cap</th>\n",
       "      <th>coin</th>\n",
       "      <th>Open</th>\n",
       "      <th>Close</th>\n",
       "      <th>Delta</th>\n",
       "    </tr>\n",
       "  </thead>\n",
       "  <tbody>\n",
       "    <tr>\n",
       "      <th>3039</th>\n",
       "      <td>3040</td>\n",
       "      <td>2018-08-14</td>\n",
       "      <td>0.279615</td>\n",
       "      <td>0.253983</td>\n",
       "      <td>276768000</td>\n",
       "      <td>10974569489</td>\n",
       "      <td>XRP</td>\n",
       "      <td>0.278738</td>\n",
       "      <td>0.274272</td>\n",
       "      <td>-0.016022</td>\n",
       "    </tr>\n",
       "    <tr>\n",
       "      <th>3040</th>\n",
       "      <td>3041</td>\n",
       "      <td>2018-08-13</td>\n",
       "      <td>0.310680</td>\n",
       "      <td>0.276544</td>\n",
       "      <td>235117000</td>\n",
       "      <td>11694547623</td>\n",
       "      <td>XRP</td>\n",
       "      <td>0.297572</td>\n",
       "      <td>0.277466</td>\n",
       "      <td>-0.067567</td>\n",
       "    </tr>\n",
       "    <tr>\n",
       "      <th>3041</th>\n",
       "      <td>3042</td>\n",
       "      <td>2018-08-12</td>\n",
       "      <td>0.309376</td>\n",
       "      <td>0.297057</td>\n",
       "      <td>178827000</td>\n",
       "      <td>11813701285</td>\n",
       "      <td>XRP</td>\n",
       "      <td>0.300604</td>\n",
       "      <td>0.297870</td>\n",
       "      <td>-0.009095</td>\n",
       "    </tr>\n",
       "    <tr>\n",
       "      <th>3042</th>\n",
       "      <td>3043</td>\n",
       "      <td>2018-08-11</td>\n",
       "      <td>0.321210</td>\n",
       "      <td>0.291582</td>\n",
       "      <td>284423000</td>\n",
       "      <td>12620041078</td>\n",
       "      <td>XRP</td>\n",
       "      <td>0.321122</td>\n",
       "      <td>0.301262</td>\n",
       "      <td>-0.061846</td>\n",
       "    </tr>\n",
       "    <tr>\n",
       "      <th>3043</th>\n",
       "      <td>3044</td>\n",
       "      <td>2018-08-10</td>\n",
       "      <td>0.347973</td>\n",
       "      <td>0.316909</td>\n",
       "      <td>249264000</td>\n",
       "      <td>13604325471</td>\n",
       "      <td>XRP</td>\n",
       "      <td>0.346167</td>\n",
       "      <td>0.320426</td>\n",
       "      <td>-0.074360</td>\n",
       "    </tr>\n",
       "  </tbody>\n",
       "</table>\n",
       "</div>"
      ],
      "text/plain": [
       "      Unnamed: 0        Date      High       Low     Volume   Market.Cap coin  \\\n",
       "3039        3040  2018-08-14  0.279615  0.253983  276768000  10974569489  XRP   \n",
       "3040        3041  2018-08-13  0.310680  0.276544  235117000  11694547623  XRP   \n",
       "3041        3042  2018-08-12  0.309376  0.297057  178827000  11813701285  XRP   \n",
       "3042        3043  2018-08-11  0.321210  0.291582  284423000  12620041078  XRP   \n",
       "3043        3044  2018-08-10  0.347973  0.316909  249264000  13604325471  XRP   \n",
       "\n",
       "          Open     Close     Delta  \n",
       "3039  0.278738  0.274272 -0.016022  \n",
       "3040  0.297572  0.277466 -0.067567  \n",
       "3041  0.300604  0.297870 -0.009095  \n",
       "3042  0.321122  0.301262 -0.061846  \n",
       "3043  0.346167  0.320426 -0.074360  "
      ]
     },
     "execution_count": 130,
     "metadata": {},
     "output_type": "execute_result"
    }
   ],
   "source": [
    "rippleData.head()"
   ]
  },
  {
   "cell_type": "markdown",
   "metadata": {},
   "source": [
    "Now that we have these seperate tables, we need to find where we have empty cells and decide what to do with them. First, let's see where our empties are."
   ]
  },
  {
   "cell_type": "code",
   "execution_count": 131,
   "metadata": {},
   "outputs": [
    {
     "data": {
      "text/plain": [
       "Unnamed: 0      0\n",
       "Date            0\n",
       "High            0\n",
       "Low             0\n",
       "Volume        243\n",
       "Market.Cap      0\n",
       "coin            0\n",
       "Open            0\n",
       "Close           0\n",
       "Delta           0\n",
       "dtype: int64"
      ]
     },
     "execution_count": 131,
     "metadata": {},
     "output_type": "execute_result"
    }
   ],
   "source": [
    "bitcoinData.isnull().sum()"
   ]
  },
  {
   "cell_type": "code",
   "execution_count": 132,
   "metadata": {},
   "outputs": [
    {
     "data": {
      "text/plain": [
       "Unnamed: 0    0\n",
       "Date          0\n",
       "High          0\n",
       "Low           0\n",
       "Volume        0\n",
       "Market.Cap    1\n",
       "coin          0\n",
       "Open          0\n",
       "Close         0\n",
       "Delta         0\n",
       "dtype: int64"
      ]
     },
     "execution_count": 132,
     "metadata": {},
     "output_type": "execute_result"
    }
   ],
   "source": [
    "etheriumData.isnull().sum()"
   ]
  },
  {
   "cell_type": "code",
   "execution_count": 133,
   "metadata": {},
   "outputs": [
    {
     "data": {
      "text/plain": [
       "Unnamed: 0      0\n",
       "Date            0\n",
       "High            0\n",
       "Low             0\n",
       "Volume        145\n",
       "Market.Cap      0\n",
       "coin            0\n",
       "Open            0\n",
       "Close           0\n",
       "Delta           0\n",
       "dtype: int64"
      ]
     },
     "execution_count": 133,
     "metadata": {},
     "output_type": "execute_result"
    }
   ],
   "source": [
    "rippleData.isnull().sum()"
   ]
  },
  {
   "cell_type": "markdown",
   "metadata": {},
   "source": [
    "As we can see, the Bitcoin and Ripple datasets are missing quite a few volume data points. First, I will deal with the etherium set, where there is only one missing value, which is a market cap. In this situation, while I could fill this with the average of all of the market cap data, ethereum has climbed a ton in market cap, and this average would not be near accurate for the date of this data point (being the first data point taken), so instead I am going to remove this row."
   ]
  },
  {
   "cell_type": "code",
   "execution_count": 203,
   "metadata": {},
   "outputs": [],
   "source": [
    "etheriumData = etheriumData.dropna(subset=['Market.Cap'])"
   ]
  },
  {
   "cell_type": "markdown",
   "metadata": {},
   "source": [
    "We have now removed the missing market cap value for ethereum, so now we need to look at the missing Volume's for Bitcoin and Ripple, which account for many more of the total data points. Because, for the sake of this visualization, I am more focused on high low, delta, open, and close, I am going to just fill the empty Volume's with the mean of all other volumes. I know this is typically not good practice, but for the sake of this expirement, the Volume of each coin is not important. "
   ]
  },
  {
   "cell_type": "code",
   "execution_count": 208,
   "metadata": {},
   "outputs": [],
   "source": [
    "bitcoinData = bitcoinData.fillna(bitcoinData.mean())"
   ]
  },
  {
   "cell_type": "code",
   "execution_count": 209,
   "metadata": {},
   "outputs": [],
   "source": [
    "rippleData = rippleData.fillna(rippleData.mean())"
   ]
  },
  {
   "cell_type": "markdown",
   "metadata": {},
   "source": [
    "The data is now clean and ready to be presented through various visualization techniques. For the sake of this project, the focus is on data cleansing, so I will not be showing visualizations."
   ]
  }
 ],
 "metadata": {
  "kernelspec": {
   "display_name": "Python 3",
   "language": "python",
   "name": "python3"
  },
  "language_info": {
   "codemirror_mode": {
    "name": "ipython",
    "version": 3
   },
   "file_extension": ".py",
   "mimetype": "text/x-python",
   "name": "python",
   "nbconvert_exporter": "python",
   "pygments_lexer": "ipython3",
   "version": "3.6.5"
  }
 },
 "nbformat": 4,
 "nbformat_minor": 2
}
